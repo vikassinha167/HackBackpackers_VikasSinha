{
 "cells": [
  {
   "cell_type": "code",
   "execution_count": 50,
   "id": "185a7428",
   "metadata": {},
   "outputs": [
    {
     "name": "stdout",
     "output_type": "stream",
     "text": [
      "Requirement already satisfied: sql-metadata-lineage in c:\\users\\nz265cd\\anaconda3\\lib\\site-packages (0.0.1)\n",
      "Requirement already satisfied: sqlparse in c:\\users\\nz265cd\\anaconda3\\lib\\site-packages (from sql-metadata-lineage) (0.4.2)\n"
     ]
    }
   ],
   "source": [
    "!pip install sql-metadata-lineage"
   ]
  },
  {
   "cell_type": "code",
   "execution_count": 51,
   "id": "f2ad1b5b",
   "metadata": {},
   "outputs": [],
   "source": [
    "import sql_metadata_lineage"
   ]
  },
  {
   "cell_type": "code",
   "execution_count": 52,
   "id": "676ef752",
   "metadata": {},
   "outputs": [],
   "source": [
    "def get_originating_tables(sql_script):\n",
    "    try:\n",
    "        table_map, column_map = sql_metadata_lineage.get_metadata(sql_script)\n",
    "    except Exception as ex:\n",
    "        raise ex\n",
    "    return table_map, column_map"
   ]
  },
  {
   "cell_type": "code",
   "execution_count": 41,
   "id": "ca3ab62c",
   "metadata": {},
   "outputs": [
    {
     "name": "stdout",
     "output_type": "stream",
     "text": [
      "**** Database.Table alias mapping ****\n",
      "\n",
      "Subquery mapping alias: acquisitions\n",
      "\tacq -> tutorial.crunchbase_acquisitions\n",
      "Subquery mapping alias: investments\n",
      "\t\tinvst -> tutorial.crunchbase_investments\n",
      "\n",
      "\n",
      "**** Column, Database and Table mapping ****\n",
      "\n",
      "month_nm -> tutorial.crunchbase_investments.funded_month_nm\n",
      "companies_acquired -> count(DISTINCT tutorial.crunchbase_acquisitions.company_permalink)\n",
      "companies_rec_investment -> count(DISTINCT tutorial.crunchbase_investments.company_permalink)\n"
     ]
    }
   ],
   "source": [
    "# Example Test\n",
    "table_map, column_map = get_originating_tables('''SELECT investments.month_nm AS month_nm,\n",
    "           acquisitions.companies_acquired,\n",
    "           investments.companies_rec_investment\n",
    "      FROM (\n",
    "            SELECT acq.acquired_month_nm AS month_nm,\n",
    "                   COUNT(DISTINCT acq.company_permalink) AS companies_acquired\n",
    "              FROM tutorial.crunchbase_acquisitions acq\n",
    "             GROUP BY 1\n",
    "           ) acquisitions\n",
    "\n",
    "      FULL JOIN (\n",
    "            SELECT invst.funded_month_nm AS month_nm,\n",
    "                   COUNT(DISTINCT invst.company_permalink) AS companies_rec_investment\n",
    "              FROM tutorial.crunchbase_investments invst\n",
    "             GROUP BY 1\n",
    "           ) investments\n",
    "\n",
    "        ON acquisitions.month_nm = investments.month_nm''')"
   ]
  },
  {
   "cell_type": "code",
   "execution_count": 43,
   "id": "28364844",
   "metadata": {},
   "outputs": [
    {
     "data": {
      "text/plain": [
       "{'acquisitions': {'acq': 'tutorial.crunchbase_acquisitions'},\n",
       " 'investments': {'invst': 'tutorial.crunchbase_investments'}}"
      ]
     },
     "execution_count": 43,
     "metadata": {},
     "output_type": "execute_result"
    }
   ],
   "source": [
    "print(table_map)"
   ]
  },
  {
   "cell_type": "code",
   "execution_count": 44,
   "id": "ba0f08b4",
   "metadata": {},
   "outputs": [
    {
     "name": "stdout",
     "output_type": "stream",
     "text": [
      "{'month_nm': 'tutorial.crunchbase_investments.funded_month_nm', 'companies_acquired': 'count(DISTINCT tutorial.crunchbase_acquisitions.company_permalink)', 'companies_rec_investment': 'count(DISTINCT tutorial.crunchbase_investments.company_permalink)'}\n"
     ]
    }
   ],
   "source": [
    "print(column_map)"
   ]
  }
 ],
 "metadata": {
  "kernelspec": {
   "display_name": "Python 3 (ipykernel)",
   "language": "python",
   "name": "python3"
  },
  "language_info": {
   "codemirror_mode": {
    "name": "ipython",
    "version": 3
   },
   "file_extension": ".py",
   "mimetype": "text/x-python",
   "name": "python",
   "nbconvert_exporter": "python",
   "pygments_lexer": "ipython3",
   "version": "3.9.7"
  }
 },
 "nbformat": 4,
 "nbformat_minor": 5
}
